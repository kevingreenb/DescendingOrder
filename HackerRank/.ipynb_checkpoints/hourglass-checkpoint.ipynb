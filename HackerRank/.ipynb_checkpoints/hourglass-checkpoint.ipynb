{
 "cells": [
  {
   "cell_type": "code",
   "execution_count": 74,
   "metadata": {},
   "outputs": [
    {
     "name": "stdout",
     "output_type": "stream",
     "text": [
      "28\n"
     ]
    }
   ],
   "source": [
    "totals = []\n",
    "total = 0;\n",
    "\n",
    "arr = [[-9, -9, -9,  1,  1,  1],\n",
    "       [ 0, -9,  0,  4,  3,  2],\n",
    "       [-9, -9, -9,  1,  2,  3],\n",
    "       [0 ,  0,  8,  6,  6,  0],\n",
    "       [0 ,  0,  0, -2,  0,  0],\n",
    "       [0 ,  0,  1,  2,  4,  0]]\n",
    "for j in range (0,len(arr)-2): #Columns\n",
    "    for i in range(0,len(arr)-2): #Rows\n",
    "        total = 0\n",
    "        total = total + arr[i][j] + arr[i+2][j] + arr[i][j+1] + arr[i+2][j+1] + arr[i][j+2] + arr[i+2][j+2] + arr[i+1][j+1]\n",
    "        totals.append(total)\n",
    "print (max(totals))\n",
    "        \n",
    "    \n",
    "\n"
   ]
  },
  {
   "cell_type": "code",
   "execution_count": 59,
   "metadata": {},
   "outputs": [
    {
     "name": "stdout",
     "output_type": "stream",
     "text": [
      "[7, 4, 3, 3]\n"
     ]
    }
   ],
   "source": []
  },
  {
   "cell_type": "code",
   "execution_count": null,
   "metadata": {},
   "outputs": [],
   "source": []
  }
 ],
 "metadata": {
  "kernelspec": {
   "display_name": "Python 3",
   "language": "python",
   "name": "python3"
  },
  "language_info": {
   "codemirror_mode": {
    "name": "ipython",
    "version": 3
   },
   "file_extension": ".py",
   "mimetype": "text/x-python",
   "name": "python",
   "nbconvert_exporter": "python",
   "pygments_lexer": "ipython3",
   "version": "3.6.5"
  }
 },
 "nbformat": 4,
 "nbformat_minor": 2
}
