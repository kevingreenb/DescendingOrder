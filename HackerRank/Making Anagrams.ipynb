{
 "cells": [
  {
   "cell_type": "markdown",
   "metadata": {},
   "source": [
    "Check out the resources on the page's right side to learn more about strings. The video tutorial is by Gayle Laakmann McDowell, author of the best-selling interview book Cracking the Coding Interview.\n",
    "\n",
    "Alice is taking a cryptography class and finding anagrams to be very useful. We consider two strings to be anagrams of each other if the first string's letters can be rearranged to form the second string. In other words, both strings must contain the same exact letters in the same exact frequency For example, bacdc and dcbac are anagrams, but bacdc and dcbad are not.\n",
    "\n",
    "Alice decides on an encryption scheme involving two large strings where encryption is dependent on the minimum number of character deletions required to make the two strings anagrams. Can you help her find this number?\n",
    "\n",
    "Given two strings,  and , that may or may not be of the same length, determine the minimum number of character deletions required to make  and  anagrams. Any characters can be deleted from either of the strings.\n",
    "\n",
    "For example, if  and , we can delete  from string  and  from string  so that both remaining strings are and  which are anagrams.\n",
    "\n",
    "Function Description\n",
    "\n",
    "Complete the makeAnagram function in the editor below. It must return an integer representing the minimum total characters that must be deleted to make the strings anagrams.\n",
    "\n",
    "makeAnagram has the following parameter(s):\n",
    "\n",
    "a: a string\n",
    "b: a string\n",
    "Input Format\n",
    "\n",
    "The first line contains a single string, . \n",
    "The second line contains a single string, .\n",
    "\n",
    "Constraints\n",
    "\n",
    "The strings  and  consist of lowercase English alphabetic letters ascii[a-z].\n",
    "Output Format\n",
    "\n",
    "Print a single integer denoting the number of characters you must delete to make the two strings anagrams of each other.\n",
    "\n",
    "Sample Input\n",
    "\n",
    "cde\n",
    "abc\n",
    "Sample Output\n",
    "\n",
    "4\n",
    "Explanation\n",
    "\n",
    "We delete the following characters from our two strings to turn them into anagrams of each other:\n",
    "\n",
    "Remove d and e from cde to get c.\n",
    "Remove a and b from abc to get c.\n",
    "We must delete  characters to make both strings anagrams, so we print  on a new line."
   ]
  },
  {
   "cell_type": "code",
   "execution_count": 1,
   "metadata": {},
   "outputs": [],
   "source": [
    "def makeAnagram(a, b):\n",
    "    d1 = {}\n",
    "    d2 = {}\n",
    "    total = 0\n",
    "    for letter in a:\n",
    "        if letter not in d1:\n",
    "            d1[letter] = 1\n",
    "        else:\n",
    "            d1[letter] += 1\n",
    "\n",
    "    for letter in b:\n",
    "        if letter not in d2:\n",
    "            d2[letter] = 1\n",
    "        else:\n",
    "            d2[letter] += 1\n",
    "\n",
    "    for letter in d1:\n",
    "        if letter not in d2:\n",
    "            total = total + d1[letter]\n",
    "        else:\n",
    "            total = total + abs(d1[letter]-d2[letter])\n",
    "    \n",
    "    for letter in d2:\n",
    "        if letter not in d1:\n",
    "            total = total + d2[letter]\n",
    "    return total"
   ]
  },
  {
   "cell_type": "code",
   "execution_count": null,
   "metadata": {},
   "outputs": [],
   "source": []
  }
 ],
 "metadata": {
  "kernelspec": {
   "display_name": "Python 3",
   "language": "python",
   "name": "python3"
  },
  "language_info": {
   "codemirror_mode": {
    "name": "ipython",
    "version": 3
   },
   "file_extension": ".py",
   "mimetype": "text/x-python",
   "name": "python",
   "nbconvert_exporter": "python",
   "pygments_lexer": "ipython3",
   "version": "3.6.5"
  }
 },
 "nbformat": 4,
 "nbformat_minor": 2
}
