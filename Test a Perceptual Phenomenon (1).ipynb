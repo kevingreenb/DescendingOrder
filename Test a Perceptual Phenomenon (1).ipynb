{
 "cells": [
  {
   "cell_type": "markdown",
   "metadata": {},
   "source": [
    "### Analyzing the Stroop Effect\n",
    "Perform the analysis in the space below. Remember to follow [the instructions](https://docs.google.com/document/d/1-OkpZLjG_kX9J6LIQ5IltsqMzVWjh36QpnP2RYpVdPU/pub?embedded=True) and review the [project rubric](https://review.udacity.com/#!/rubrics/71/view) before submitting. Once you've completed the analysis and write-up, download this file as a PDF or HTML file, upload that PDF/HTML into the workspace here (click on the orange Jupyter icon in the upper left then Upload), then use the Submit Project button at the bottom of this page. This will create a zip file containing both this .ipynb doc and the PDF/HTML doc that will be submitted for your project.\n",
    "\n",
    "\n",
    "(1) What is the independent variable? What is the dependent variable?"
   ]
  },
  {
   "cell_type": "markdown",
   "metadata": {},
   "source": [
    "The independent variables are wether the tests are congruent or incongruent and the dependent variables is the reaction time on those tests"
   ]
  },
  {
   "cell_type": "markdown",
   "metadata": {},
   "source": [
    "(2) What is an appropriate set of hypotheses for this task? Specify your null and alternative hypotheses, and clearly define any notation used. Justify your choices."
   ]
  },
  {
   "cell_type": "markdown",
   "metadata": {},
   "source": [
    "(c is congruent tests and i represents incongruent tests)\n",
    "Ho: c >= i where the mean population time completes c tests at same or greater time that incongruent (null hypothesis)\n",
    "Ha: c < i congruent mean population time completes faster with congruent tests (alternative hypothesis)"
   ]
  },
  {
   "cell_type": "markdown",
   "metadata": {},
   "source": [
    "(3) Report some descriptive statistics regarding this dataset. Include at least one measure of central tendency and at least one measure of variability. The name of the data file is 'stroopdata.csv'."
   ]
  },
  {
   "cell_type": "code",
   "execution_count": 23,
   "metadata": {},
   "outputs": [
    {
     "data": {
      "text/html": [
       "<script>requirejs.config({paths: { 'plotly': ['https://cdn.plot.ly/plotly-latest.min']},});if(!window.Plotly) {{require(['plotly'],function(plotly) {window.Plotly=plotly;});}}</script>"
      ],
      "text/vnd.plotly.v1+html": [
       "<script>requirejs.config({paths: { 'plotly': ['https://cdn.plot.ly/plotly-latest.min']},});if(!window.Plotly) {{require(['plotly'],function(plotly) {window.Plotly=plotly;});}}</script>"
      ]
     },
     "metadata": {},
     "output_type": "display_data"
    },
    {
     "name": "stdout",
     "output_type": "stream",
     "text": [
      "Congruent tests were completed on average 7.96 seconds faster than incongruent tests.\n",
      "That is 35.0% faster \n",
      "The 25th percentile being 20.05%\n",
      "The 50th percentile being 38.78%\n",
      "The 75th percentile being 46.35%\n",
      "Standard deviation for the congruent column 3.48441571277\n",
      "Standard deviation for the incongruent column 4.69605513451\n",
      "Congruent mean = 14.05\n",
      "Incongruent mean = 22.02\n"
     ]
    }
   ],
   "source": [
    "import scipy.stats as stats\n",
    "import pandas as pd\n",
    "import numpy\n",
    "import math\n",
    "import plotly\n",
    "import plotly.graph_objs as go\n",
    "from plotly.offline import iplot, init_notebook_mode\n",
    "\n",
    "init_notebook_mode(connected=True)\n",
    "\n",
    "\n",
    "data = pd.read_csv('stroopdata.csv')\n",
    "congruent=data['Congruent']\n",
    "incongruent=data['Incongruent']\n",
    "r = list(range(1,len(congruent)+1))\n",
    "def plot(figure):\n",
    "    plotly.offline.iplot(figure)\n",
    "diff = list(map(lambda x: incongruent[x-1]-congruent[x-1],r))\n",
    "percentages = list(map(lambda x: diff[x-1]/incongruent[x-1],r))\n",
    "percentile25 = round(numpy.percentile(percentages,25)*100,2)\n",
    "percentile50 = round(numpy.percentile(percentages,50)*100,2)\n",
    "percentile75 = round(numpy.percentile(percentages,75)*100,2)\n",
    "cStandardDeviation = numpy.std(congruent)\n",
    "iStandardDeviation = numpy.std(incongruent)\n",
    "cMean = round(numpy.mean(congruent),2)\n",
    "iMean = round(numpy.mean(incongruent),2)\n",
    "iminusc = incongruent-congruent;\n",
    "iminuscStandardDeviation = numpy.std(iminusc)\n",
    "print (\"Congruent tests were completed on average \" + str(round(numpy.mean(diff),2)) + \" seconds faster than incongruent tests.\")\n",
    "print (\"That is \"+ str(round(numpy.mean(percentages),2)*100) + \"% faster \")\n",
    "print (\"The 25th percentile being \" + str(percentile25) + \"%\")\n",
    "print (\"The 50th percentile being \" + str(percentile50) + \"%\")\n",
    "print (\"The 75th percentile being \" + str(percentile75) + \"%\")\n",
    "print (\"Standard deviation for the congruent column \" + str(cStandardDeviation))\n",
    "print (\"Standard deviation for the incongruent column \" + str(iStandardDeviation))\n",
    "print (\"Congruent mean = \" + str(cMean))\n",
    "print (\"Incongruent mean = \" + str(iMean))"
   ]
  },
  {
   "cell_type": "markdown",
   "metadata": {},
   "source": [
    "Congruent tests were completed on average 7.96 seconds faster than incongruent tests.\n",
    "That is 35.0% faster.\n",
    "The 25th percentile being 20.05%.\n",
    "The 50th percentile being 38.78%.\n",
    "The 75th percentile being 46.35%.\n",
    "Standard deviation for the congruent column 3.48441571277 seconds.\n",
    "Standard deviation for the incongruent column 4.69605513451 seconds.\n"
   ]
  },
  {
   "cell_type": "markdown",
   "metadata": {},
   "source": [
    "(4) Provide one or two visualizations that show the distribution of the sample data. Write one or two sentences noting what you observe about the plot or plots."
   ]
  },
  {
   "cell_type": "code",
   "execution_count": 24,
   "metadata": {},
   "outputs": [
    {
     "data": {
      "application/vnd.plotly.v1+json": {
       "data": [
        {
         "mode": "markers",
         "name": "Congruent",
         "type": "scatter",
         "x": [
          1,
          2,
          3,
          4,
          5,
          6,
          7,
          8,
          9,
          10,
          11,
          12,
          13,
          14,
          15,
          16,
          17,
          18,
          19,
          20,
          21,
          22,
          23,
          24
         ],
         "y": [
          12.079,
          16.791,
          9.564,
          8.63,
          14.669,
          12.238,
          14.692,
          8.987,
          9.401,
          14.48,
          22.328000000000003,
          15.298,
          15.073,
          16.929000000000002,
          18.2,
          12.13,
          18.495,
          10.639000000000001,
          11.344000000000001,
          12.369000000000002,
          12.944,
          14.232999999999999,
          19.71,
          16.004
         ]
        },
        {
         "mode": "markers",
         "name": "Incongruent",
         "type": "scatter",
         "x": [
          1,
          2,
          3,
          4,
          5,
          6,
          7,
          8,
          9,
          10,
          11,
          12,
          13,
          14,
          15,
          16,
          17,
          18,
          19,
          20,
          21,
          22,
          23,
          24
         ],
         "y": [
          19.278,
          18.741,
          21.214000000000002,
          15.687000000000001,
          22.803,
          20.878,
          24.572,
          17.394000000000002,
          20.761999999999997,
          26.281999999999996,
          24.524,
          18.644000000000002,
          17.51,
          20.33,
          35.255,
          22.158,
          25.139,
          20.429000000000002,
          17.425,
          34.288000000000004,
          23.894000000000002,
          17.96,
          22.058000000000003,
          21.156999999999996
         ]
        }
       ],
       "layout": {
        "title": "Congruent vs Incongruent",
        "xaxis": {
         "title": "Test #",
         "titlefont": {
          "color": "#7f7f7f",
          "family": "Courier New, monospace",
          "size": 18
         }
        },
        "yaxis": {
         "title": "Seconds",
         "titlefont": {
          "color": "#7f7f7f",
          "family": "Courier New, monospace",
          "size": 18
         }
        }
       }
      },
      "text/html": [
       "<div id=\"ca00588f-1c86-4611-8a8e-cec0ec36b924\" style=\"height: 525px; width: 100%;\" class=\"plotly-graph-div\"></div><script type=\"text/javascript\">require([\"plotly\"], function(Plotly) { window.PLOTLYENV=window.PLOTLYENV || {};window.PLOTLYENV.BASE_URL=\"https://plot.ly\";Plotly.newPlot(\"ca00588f-1c86-4611-8a8e-cec0ec36b924\", [{\"type\": \"scatter\", \"x\": [1, 2, 3, 4, 5, 6, 7, 8, 9, 10, 11, 12, 13, 14, 15, 16, 17, 18, 19, 20, 21, 22, 23, 24], \"y\": [12.079, 16.791, 9.564, 8.63, 14.669, 12.238, 14.692, 8.987, 9.401, 14.48, 22.328000000000003, 15.298, 15.073, 16.929000000000002, 18.2, 12.13, 18.495, 10.639000000000001, 11.344000000000001, 12.369000000000002, 12.944, 14.232999999999999, 19.71, 16.004], \"name\": \"Congruent\", \"mode\": \"markers\"}, {\"type\": \"scatter\", \"x\": [1, 2, 3, 4, 5, 6, 7, 8, 9, 10, 11, 12, 13, 14, 15, 16, 17, 18, 19, 20, 21, 22, 23, 24], \"y\": [19.278, 18.741, 21.214000000000002, 15.687000000000001, 22.803, 20.878, 24.572, 17.394000000000002, 20.761999999999997, 26.281999999999996, 24.524, 18.644000000000002, 17.51, 20.33, 35.255, 22.158, 25.139, 20.429000000000002, 17.425, 34.288000000000004, 23.894000000000002, 17.96, 22.058000000000003, 21.156999999999996], \"name\": \"Incongruent\", \"mode\": \"markers\"}], {\"title\": \"Congruent vs Incongruent\", \"xaxis\": {\"title\": \"Test #\", \"titlefont\": {\"family\": \"Courier New, monospace\", \"size\": 18, \"color\": \"#7f7f7f\"}}, \"yaxis\": {\"title\": \"Seconds\", \"titlefont\": {\"family\": \"Courier New, monospace\", \"size\": 18, \"color\": \"#7f7f7f\"}}}, {\"showLink\": true, \"linkText\": \"Export to plot.ly\"})});</script>"
      ],
      "text/vnd.plotly.v1+html": [
       "<div id=\"ca00588f-1c86-4611-8a8e-cec0ec36b924\" style=\"height: 525px; width: 100%;\" class=\"plotly-graph-div\"></div><script type=\"text/javascript\">require([\"plotly\"], function(Plotly) { window.PLOTLYENV=window.PLOTLYENV || {};window.PLOTLYENV.BASE_URL=\"https://plot.ly\";Plotly.newPlot(\"ca00588f-1c86-4611-8a8e-cec0ec36b924\", [{\"type\": \"scatter\", \"x\": [1, 2, 3, 4, 5, 6, 7, 8, 9, 10, 11, 12, 13, 14, 15, 16, 17, 18, 19, 20, 21, 22, 23, 24], \"y\": [12.079, 16.791, 9.564, 8.63, 14.669, 12.238, 14.692, 8.987, 9.401, 14.48, 22.328000000000003, 15.298, 15.073, 16.929000000000002, 18.2, 12.13, 18.495, 10.639000000000001, 11.344000000000001, 12.369000000000002, 12.944, 14.232999999999999, 19.71, 16.004], \"name\": \"Congruent\", \"mode\": \"markers\"}, {\"type\": \"scatter\", \"x\": [1, 2, 3, 4, 5, 6, 7, 8, 9, 10, 11, 12, 13, 14, 15, 16, 17, 18, 19, 20, 21, 22, 23, 24], \"y\": [19.278, 18.741, 21.214000000000002, 15.687000000000001, 22.803, 20.878, 24.572, 17.394000000000002, 20.761999999999997, 26.281999999999996, 24.524, 18.644000000000002, 17.51, 20.33, 35.255, 22.158, 25.139, 20.429000000000002, 17.425, 34.288000000000004, 23.894000000000002, 17.96, 22.058000000000003, 21.156999999999996], \"name\": \"Incongruent\", \"mode\": \"markers\"}], {\"title\": \"Congruent vs Incongruent\", \"xaxis\": {\"title\": \"Test #\", \"titlefont\": {\"family\": \"Courier New, monospace\", \"size\": 18, \"color\": \"#7f7f7f\"}}, \"yaxis\": {\"title\": \"Seconds\", \"titlefont\": {\"family\": \"Courier New, monospace\", \"size\": 18, \"color\": \"#7f7f7f\"}}}, {\"showLink\": true, \"linkText\": \"Export to plot.ly\"})});</script>"
      ]
     },
     "metadata": {},
     "output_type": "display_data"
    }
   ],
   "source": [
    "trace1 = go.Scatter(\n",
    "    x=r,\n",
    "    y=congruent,\n",
    "    name='Congruent',\n",
    "    mode='markers'\n",
    ")\n",
    "trace2 = go.Scatter(\n",
    "    x=r,\n",
    "    y=incongruent,\n",
    "    name='Incongruent',\n",
    "    mode='markers'\n",
    ")\n",
    "data = [trace1, trace2]\n",
    "layout = go.Layout(\n",
    "    title='Congruent vs Incongruent',\n",
    "    xaxis=dict(\n",
    "        title='Test #',\n",
    "        titlefont=dict(\n",
    "            family='Courier New, monospace',\n",
    "            size=18,\n",
    "            color='#7f7f7f'\n",
    "        )\n",
    "    ),\n",
    "    yaxis=dict(\n",
    "        title='Seconds',\n",
    "        titlefont=dict(\n",
    "            family='Courier New, monospace',\n",
    "            size=18,\n",
    "            color='#7f7f7f'\n",
    "        )\n",
    "    )\n",
    ")\n",
    "fig = go.Figure(data=data, layout=layout)\n",
    "plot_url = plot(fig)\n",
    "\n",
    "\n",
    "# I would like feed back on how I can use set_xticklabels() with these traces \n",
    "# in order to display all X labels in the X Axis so instead of displaying 5, 10 , 15\n",
    "# it displays 1, 2, 3, 4, ... 24"
   ]
  },
  {
   "cell_type": "markdown",
   "metadata": {},
   "source": [
    "Throughout all tests, congruent data sets were completed faster than incongruent. The largest difference was 63.93% faster and the closest being 8.95%."
   ]
  },
  {
   "cell_type": "markdown",
   "metadata": {},
   "source": [
    "(5)  Now, perform the statistical test and report your results. What is your confidence level or Type I error associated with your test? What is your conclusion regarding the hypotheses you set up? Did the results match up with your expectations? **Hint:**  Think about what is being measured on each individual, and what statistic best captures how an individual reacts in each environment."
   ]
  },
  {
   "cell_type": "code",
   "execution_count": 18,
   "metadata": {},
   "outputs": [
    {
     "name": "stdout",
     "output_type": "stream",
     "text": [
      "8.1985727048\n"
     ]
    }
   ],
   "source": [
    "#t-stat = (mean(a) - mean(b)) / (standard_deviation(a - b)/square_root(N))\n",
    "t_stat = (iMean - cMean)/(iminuscStandardDeviation/math.sqrt(24))\n",
    "print (t_stat)"
   ]
  },
  {
   "cell_type": "markdown",
   "metadata": {},
   "source": [
    "With a t-stat valvue of 8.1985727048 I'd say the data shows significant differences, thus rejecting the null hypothesis."
   ]
  },
  {
   "cell_type": "markdown",
   "metadata": {},
   "source": [
    "(6) Optional: What do you think is responsible for the effects observed? Can you think of an alternative or similar task that would result in a similar effect? Some research about the problem will be helpful for thinking about these two questions!"
   ]
  },
  {
   "cell_type": "markdown",
   "metadata": {},
   "source": [
    "I've seen texts that are entirely and purposely mispelled, yet you can read them fluently as if it was spelled out just fine. The idea behind those texts is to demonstrate that the brain is quick to identify words just by simply looking at an arrangment of letters regardless if the word is spelled correctly or not. The brain's ability to identify a color and pronounce it seems to not be as immediate."
   ]
  }
 ],
 "metadata": {
  "kernelspec": {
   "display_name": "Python 3",
   "language": "python",
   "name": "python3"
  },
  "language_info": {
   "codemirror_mode": {
    "name": "ipython",
    "version": 3
   },
   "file_extension": ".py",
   "mimetype": "text/x-python",
   "name": "python",
   "nbconvert_exporter": "python",
   "pygments_lexer": "ipython3",
   "version": "3.6.3"
  }
 },
 "nbformat": 4,
 "nbformat_minor": 2
}
