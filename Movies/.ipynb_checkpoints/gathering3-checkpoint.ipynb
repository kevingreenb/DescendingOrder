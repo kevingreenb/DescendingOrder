{
 "cells": [
  {
   "cell_type": "code",
   "execution_count": 6,
   "metadata": {},
   "outputs": [],
   "source": [
    "import glob"
   ]
  },
  {
   "cell_type": "code",
   "execution_count": 18,
   "metadata": {},
   "outputs": [
    {
     "name": "stdout",
     "output_type": "stream",
     "text": [
      "http://www.rogerebert.com/reviews/dunkirk-2017\n",
      "\n",
      "Lean and ambitious, unsentimental and bombastic, overwhelmingly guy-centric, Christopher Nolan's World War II epic \"Dunkirk\" showcases the best and worst of the director's tendencies. The best win out and the worst recede in memory when you think back on the experience—provided that you want to remember \"Dunkirk,\" a movie that's supposed to be grueling and succeeds. Less of a war film and more of a disaster (or survival) picture, it's an ensemble work that chronicles the evacuation of British soldiers who got trapped in the harbor and on the beaches of Dunkirk, France, in late May and early June of 1940, with the Germans, who had driven Allied forces practically out to sea, closing in for one last sweep.\n",
      "\n"
     ]
    }
   ],
   "source": [
    "for ebert_review in glob.glob('ebert_reviews/*txt'):\n",
    "    with open(ebert_review, encoding='utf8') as file:\n",
    "        title = file.readline()[:-1]\n",
    "        review_url =  file.readline()[:-1]\n",
    "        review_text = file.read()\n",
    "        \n",
    "        # Append to list of dictionaries\n",
    "        df_list.append({'title': title,\n",
    "                        'review_url': review_url,\n",
    "                        'review_text': review_text})\n",
    "df = pd.DataFrame(df_list, columns = ['title', 'review_url', 'review_text'])"
   ]
  },
  {
   "cell_type": "code",
   "execution_count": null,
   "metadata": {},
   "outputs": [],
   "source": []
  }
 ],
 "metadata": {
  "kernelspec": {
   "display_name": "Python 3",
   "language": "python",
   "name": "python3"
  },
  "language_info": {
   "codemirror_mode": {
    "name": "ipython",
    "version": 3
   },
   "file_extension": ".py",
   "mimetype": "text/x-python",
   "name": "python",
   "nbconvert_exporter": "python",
   "pygments_lexer": "ipython3",
   "version": "3.6.5"
  }
 },
 "nbformat": 4,
 "nbformat_minor": 2
}
